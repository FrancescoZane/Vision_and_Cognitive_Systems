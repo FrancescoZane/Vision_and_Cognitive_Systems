{
 "cells": [
  {
   "cell_type": "markdown",
   "metadata": {
    "id": "ikfiK3Vx5ayN"
   },
   "source": [
    "![image.png](data:image/png;base64,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)\n",
    "\n",
    "VISION AND COGNITIVE SYSTEMS A.Y. 2022/2023"
   ]
  },
  {
   "cell_type": "markdown",
   "metadata": {
    "id": "Gg9nc9HBgNoY"
   },
   "source": [
    "The aim of the contest is to retrieve the most similar images representing logos of famous companies from a database set containing 110 images. We will consider 4 query images and use the SIFT algorithm. Model performance will be evaluated using average precision (AP) and mean average precision (mAP) metrics.\n",
    "You can modify the baseline (parameters, feature matching technique, ...) and then submit your results.\n",
    "\n",
    "- [Submit results](https://forms.gle/mNjZNVjuDuDkffBB6)\n",
    "- [Visualize Submissions](https://bit.ly/3EZbYSn)"
   ]
  },
  {
   "cell_type": "code",
   "execution_count": 3,
   "metadata": {
    "id": "IMe4blXT5MC-"
   },
   "outputs": [],
   "source": [
    "%%capture\n",
    "# Update OpenCV package\n",
    "!pip install -U opencv-python\n",
    "!pip install opencv-contrib-python"
   ]
  },
  {
   "cell_type": "code",
   "execution_count": 5,
   "metadata": {
    "id": "t6uohdpJ52fq"
   },
   "outputs": [
    {
     "name": "stderr",
     "output_type": "stream",
     "text": [
      "UsageError: Line magic function `%%capture` not found.\n"
     ]
    }
   ],
   "source": [
    "# Upload the zip folders (query.zip and database.zip)\n",
    "%%capture\n",
    "!unzip query.zip\n",
    "!unzip database.zip"
   ]
  },
  {
   "cell_type": "code",
   "execution_count": null,
   "metadata": {
    "colab": {
     "base_uri": "https://localhost:8080/"
    },
    "id": "W08i5F9n5rVj",
    "outputId": "e2254721-c73e-4535-aa05-90af600ec04b"
   },
   "outputs": [],
   "source": [
    "import os\n",
    "import cv2\n",
    "import numpy as np\n",
    "import matplotlib.pyplot as plt\n",
    "%matplotlib inline\n",
    "\n",
    "# List of query/database images\n",
    "query_images = []\n",
    "db_images = []\n",
    "logo_names = []\n",
    "\n",
    "# Resize images\n",
    "img_size = (400, 400)\n",
    "\n",
    "# Read query images\n",
    "# Order by name\n",
    "query_dir = sorted(os.listdir('query/'))\n",
    "for idx, img_name in enumerate(query_dir):\n",
    "  # Read image\n",
    "  img = cv2.imread(os.path.join('query/', img_name))\n",
    "  # Resize image\n",
    "  img = cv2.resize(img, dsize=img_size)\n",
    "  # Save image\n",
    "  query_images.append(img)\n",
    "  # Save logo names (remove \"_logo.txt\" and capitalize)\n",
    "  logo_names.append(os.path.splitext(img_name)[0][:-5].capitalize())\n",
    "  #print(\"Image '\" + img_name + \"' loaded.\")\n",
    "print(\"Query images loaded!\")\n",
    "\n",
    "# Read db images\n",
    "# Order by number\n",
    "db_dir = sorted(os.listdir('database/'), key=lambda x: int(x.split('.')[0]))\n",
    "for idx, img_name in enumerate(db_dir):\n",
    "  # Read image\n",
    "  img = cv2.imread(os.path.join('database/', img_name))\n",
    "  # Resize image\n",
    "  img = cv2.resize(img, dsize=img_size)\n",
    "  # Save image\n",
    "  db_images.append(img)\n",
    "  #print(\"Image '\" + img_name + \"' loaded.\")\n",
    "print(\"Database images loaded!\")"
   ]
  },
  {
   "cell_type": "code",
   "execution_count": null,
   "metadata": {
    "colab": {
     "base_uri": "https://localhost:8080/",
     "height": 1000
    },
    "id": "YUL8rgRxToho",
    "outputId": "3d699c0b-f3e2-4856-ef09-e55c9e8abee4"
   },
   "outputs": [],
   "source": [
    "# Plot query images\n",
    "fig = plt.figure(figsize=(12,12))\n",
    "for i in range(len(query_images)):\n",
    "  _ = plt.subplot(1, len(query_images), i+1), plt.title(\"Query image n. \" + str(i))\n",
    "  plt.imshow(cv2.cvtColor(query_images[i], cv2.COLOR_BGR2RGB)), plt.axis('off')\n",
    "\n",
    "# Plot database images\n",
    "fig = plt.figure(figsize=(12, 80))\n",
    "for i in range(len(db_images)):\n",
    "  _ = plt.subplot(int(len(db_images)/5), 5, i+1), plt.title(\"DB image n. \" + str(i))\n",
    "  plt.imshow(cv2.cvtColor(db_images[i], cv2.COLOR_BGR2RGB)), plt.axis('off')"
   ]
  },
  {
   "cell_type": "code",
   "execution_count": null,
   "metadata": {
    "colab": {
     "base_uri": "https://localhost:8080/"
    },
    "id": "n3Hh5KNATui_",
    "outputId": "d31c2188-ec15-4c11-8f00-071b98ef650f"
   },
   "outputs": [],
   "source": [
    "# # Ground-truth arrays per logo\n",
    "coca_cola_GT = np.zeros(len(db_images))\n",
    "marlboro_GT = np.zeros(len(db_images))\n",
    "starbucks_GT = np.zeros(len(db_images))\n",
    "heineken_GT = np.zeros(len(db_images))\n",
    "\n",
    "coca_cola_GT[18:25] = 1\n",
    "marlboro_GT[55:61] = 1\n",
    "marlboro_GT[100:] = 1\n",
    "starbucks_GT[70:100] = 1\n",
    "heineken_GT[25:55] = 1\n",
    "\n",
    "# Matrix containing ground-truth values for each query image\n",
    "GT_matrix = np.vstack([coca_cola_GT, heineken_GT, marlboro_GT, starbucks_GT])\n",
    "print(f\"GT matrix shape: {GT_matrix.shape}\")\n",
    "\n",
    "n_coca_cola = int(coca_cola_GT.sum())\n",
    "n_heineken = int(heineken_GT.sum())\n",
    "n_marlboro = int(marlboro_GT.sum())\n",
    "n_starbucks = int(starbucks_GT.sum())\n",
    "n_others = len(db_images) - (n_coca_cola + n_heineken + n_marlboro + n_starbucks)\n",
    "print(f\"Number of database images (coca_cola): {n_coca_cola}\")\n",
    "print(f\"Number of database images (heineken): {n_heineken}\")\n",
    "print(f\"Number of database images (marlboro): {n_marlboro}\")\n",
    "print(f\"Number of database images (starbucks): {n_starbucks}\")\n",
    "print(f\"Number of database images (others): {n_others}\")\n",
    "# print(GT_matrix)"
   ]
  },
  {
   "cell_type": "markdown",
   "metadata": {
    "id": "4WQwakNbYRNY"
   },
   "source": [
    "SIFT algorithm (default parameters)"
   ]
  },
  {
   "cell_type": "code",
   "execution_count": null,
   "metadata": {
    "id": "IN8tjcuN5vsU"
   },
   "outputs": [],
   "source": [
    "# Define SIFT detector object\n",
    "detector = cv2.SIFT_create()\n",
    "\n",
    "# Detect and compute interest points and their descriptors\n",
    "query_kps = []\n",
    "query_des = []\n",
    "db_kps = []\n",
    "db_des = []\n",
    "\n",
    "for i in range(len(query_images)):\n",
    "  kp, des = detector.detectAndCompute(query_images[i], None)\n",
    "  query_kps.append(kp)\n",
    "  query_des.append(des)\n",
    "\n",
    "for i in range(len(db_images)):\n",
    "  kp, des = detector.detectAndCompute(db_images[i], None)\n",
    "  db_kps.append(kp)\n",
    "  db_des.append(des)"
   ]
  },
  {
   "cell_type": "markdown",
   "metadata": {
    "id": "ZupfaqTjoyj1"
   },
   "source": [
    "Ratio test"
   ]
  },
  {
   "cell_type": "code",
   "execution_count": null,
   "metadata": {
    "colab": {
     "base_uri": "https://localhost:8080/"
    },
    "id": "yAOugrzW_k4o",
    "outputId": "0e5d883a-f07c-4cf0-812a-c33a9159c68d"
   },
   "outputs": [],
   "source": [
    "# Brute-force matcher\n",
    "bf = cv2.BFMatcher_create(cv2.NORM_L2)\n",
    "\n",
    "# Matrix containing the number of matches per logo\n",
    "num_matches = np.zeros((len(query_images), len(db_images)))\n",
    "\n",
    "# Filter matches using the Lowe's ratio test\n",
    "ratio_thresh = 0.66\n",
    "\n",
    "# Save  matches for each descriptor of query images\n",
    "logo_matches = [] # List of lists\n",
    "\n",
    "# For each query image\n",
    "for q in range(len(query_images)):\n",
    "  q_matches = []\n",
    "  # For each database image\n",
    "  for db in range(len(db_images)):\n",
    "    matches = bf.knnMatch(query_des[q], db_des[db], k=2)\n",
    "    # Apply ratio test\n",
    "    n_matches = 0\n",
    "    sel_matches = []\n",
    "    for m,n in matches:\n",
    "      if m.distance < ratio_thresh * n.distance:\n",
    "        n_matches += 1\n",
    "        sel_matches.append(m)\n",
    "    # Save number of matches\n",
    "    num_matches[q, db] = n_matches\n",
    "    # Save matches\n",
    "    q_matches.append(sel_matches)\n",
    "  logo_matches.append(q_matches)\n",
    "\n",
    "for idx, logo in enumerate(logo_names):\n",
    "  print(\"Number of matches (\" + logo + \"):\")\n",
    "  print(num_matches[idx])"
   ]
  },
  {
   "cell_type": "code",
   "execution_count": null,
   "metadata": {
    "colab": {
     "base_uri": "https://localhost:8080/",
     "height": 636
    },
    "id": "lRF6NvLjaR0n",
    "outputId": "5895a90a-bc2d-4f4f-9ee1-5f06734cc173"
   },
   "outputs": [],
   "source": [
    "# Draw some matches\n",
    "_  = plt.figure(figsize=(15, 8))\n",
    "draw_params = dict(matchColor=(0, 255, 0), singlePointColor=(255, 0, 0), flags=0)\n",
    "plt_list = [25, 18, 71, 108]\n",
    "for idx, n in enumerate(plt_list):\n",
    "  img_matches = cv2.drawMatches(query_images[3], query_kps[3], db_images[n], db_kps[n], logo_matches[3][n], None, **draw_params)\n",
    "  _ = plt.subplot(2, 2, idx+1), plt.imshow(cv2.cvtColor(img_matches, cv2.COLOR_BGR2RGB))"
   ]
  },
  {
   "cell_type": "markdown",
   "metadata": {
    "id": "dAuqvnEAgBU-"
   },
   "source": [
    "# **Performance Evaluation**"
   ]
  },
  {
   "cell_type": "markdown",
   "metadata": {
    "id": "6G9RdQB6hF8o"
   },
   "source": [
    "The performance of the model will be evaluated in terms of precision, recall and average precision."
   ]
  },
  {
   "cell_type": "code",
   "execution_count": null,
   "metadata": {
    "colab": {
     "base_uri": "https://localhost:8080/",
     "height": 1000
    },
    "id": "PXj0bLTnFNvE",
    "outputId": "83e7b114-9121-4d27-a4a9-4c9da7cc18c1"
   },
   "outputs": [],
   "source": [
    "# Average precision for each logo\n",
    "AP_all = np.zeros(len(query_images))\n",
    "\n",
    "_ = plt.figure(figsize=(12, 12))\n",
    "for i in range(len(query_images)):\n",
    "  # Rank images in descending order according to the number of detected matches\n",
    "  idx = np.argsort(-num_matches[i])\n",
    "\n",
    "  # True Positives\n",
    "  TP = GT_matrix[i, idx] == 1\n",
    "\n",
    "  # False Positives\n",
    "  FP = GT_matrix[i, idx] == 0\n",
    "\n",
    "  # TP and FP for each k\n",
    "  TP = np.cumsum(TP)\n",
    "  FP = np.cumsum(FP)\n",
    "\n",
    "  # Precision/Recall for each k\n",
    "  prec = TP / (TP + FP);\n",
    "  rec = TP / np.sum(GT_matrix[i]);\n",
    "\n",
    "  # (Interpolated) Average precision (as in Pascal VOC2008)\n",
    "  AP = 0;\n",
    "  interp_prec = []\n",
    "  # We evaluate the precision at 11 recall values to reduce ''wiggles'' in the precision/recall curve\n",
    "  for t in np.linspace(0, 1, num=11):\n",
    "    p = prec[rec >= t]\n",
    "    if p.size == 0:\n",
    "      p = 0\n",
    "    else:\n",
    "      p = p.max()\n",
    "    interp_prec.append(p)\n",
    "    AP = AP + p/11\n",
    "  AP_all[i] = AP\n",
    "\n",
    "  # Plot precision/recall\n",
    "  _ = plt.subplot(2, 2, i+1)\n",
    "  plt.title(f\"{logo_names[i]} - Average Precision (AP): {AP:.3f}\")\n",
    "  _ = plt.plot(rec, prec, '-', linewidth=3)\n",
    "  _ = plt.plot(np.linspace(0, 1, num=11), interp_prec, 'o', color='red', linewidth=2)\n",
    "  plt.legend(['Precision', 'Interpolated AP'])\n",
    "  plt.grid('on')\n",
    "  plt.xlabel('Recall'), plt.ylabel('Precision')\n",
    "  plt.axis((0,1,0,1.1))"
   ]
  },
  {
   "cell_type": "code",
   "execution_count": null,
   "metadata": {
    "colab": {
     "base_uri": "https://localhost:8080/"
    },
    "id": "rgTd1wyIYAIn",
    "outputId": "e217470e-e97c-497f-f268-dbd6888984ad"
   },
   "outputs": [],
   "source": [
    "# Print results\n",
    "print('BASELINE RESULTS')\n",
    "print(\"Average Precision (AP):\\n\")\n",
    "for i in range(len(query_images)):\n",
    "  print(f'{logo_names[i]:9s}  ===>' + ' ' * 2 + f'{AP_all[i]:.3f}')\n",
    "\n",
    "print(f\"\\nMean Average Precision (mAP) ===> {np.mean(AP_all):.3f}\")"
   ]
  },
  {
   "cell_type": "code",
   "execution_count": null,
   "metadata": {
    "id": "FWuQ3SlDpE1J"
   },
   "outputs": [],
   "source": []
  }
 ],
 "metadata": {
  "colab": {
   "provenance": []
  },
  "kernelspec": {
   "display_name": "Python 3 (ipykernel)",
   "language": "python",
   "name": "python3"
  },
  "language_info": {
   "codemirror_mode": {
    "name": "ipython",
    "version": 3
   },
   "file_extension": ".py",
   "mimetype": "text/x-python",
   "name": "python",
   "nbconvert_exporter": "python",
   "pygments_lexer": "ipython3",
   "version": "3.11.5"
  }
 },
 "nbformat": 4,
 "nbformat_minor": 1
}
